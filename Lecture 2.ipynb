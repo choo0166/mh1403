{
  "cells": [
    {
      "metadata": {},
      "cell_type": "markdown",
      "source": "Intro to OOP - Classes, objects"
    },
    {
      "metadata": {
        "trusted": false
      },
      "cell_type": "code",
      "source": "class Dog:\n    def __init__(self, name, age):\n        self.name = name\n        self.age = age\n    def SetName(self, name):\n        self.name = name\n    def GetName(self):\n        return self.name",
      "execution_count": 2,
      "outputs": []
    },
    {
      "metadata": {
        "trusted": false
      },
      "cell_type": "code",
      "source": "a = Dog(\"Albert\", 2)\nb = Dog(\"Alex\", 3)\n\na.SetName('Hilbert')\na.GetName()",
      "execution_count": 3,
      "outputs": [
        {
          "data": {
            "text/plain": "'Hilbert'"
          },
          "execution_count": 3,
          "metadata": {},
          "output_type": "execute_result"
        }
      ]
    },
    {
      "metadata": {},
      "cell_type": "markdown",
      "source": "List Methods, Linked lists"
    },
    {
      "metadata": {
        "trusted": false
      },
      "cell_type": "code",
      "source": "# Implementation of index-based list using arrays\nclass IBList:\n\n    maxlen = 100\n\n    def __init__(self):\n        self.list = [0] * self.maxlen\n        self.r = 0\n\n    def get(self, r):\n        if (r < 0 or r >= self.r):\n            return \"Index Error\"\n        return self.list[r]\n\n    def set(self, r, e):\n        if (r < 0 or r >= self.r):\n            return \"Index Error\"\n        temp = self.list[r]\n        self.list[r] = e\n        return temp\n\n    def add(self, r, e):\n        if (r < 0 or r > self.r):\n            return \"Index Error\"\n        for i in range(self.r-1, r-1, -1):\n            self.list[i+1] = self.list[i]\n        self.list[r] = e\n        self.r += 1\n\n    def remove(self, r):\n        if (r < 0 or r >= self.r):\n            return \"Index Error\"\n        temp = self.list[r]\n        for i in range(r, self.r):\n            self.list[i] = self.list[i+1]\n        self.r -= 1\n        return temp\n\n    def getList(self):\n        return self.list[:self.r]\n\niblist = IBList()\nprint(iblist.add(0,'A'))\nprint(iblist.getList())\nprint(iblist.add(0,'B'))\nprint(iblist.getList())\nprint(iblist.get(1))\nprint(iblist.getList())\nprint(iblist.set(2,'C'))\nprint(iblist.getList())\nprint(iblist.add(2,'C'))\nprint(iblist.getList())\nprint(iblist.add(4,'D'))\nprint(iblist.getList())\nprint(iblist.remove(1))\nprint(iblist.getList())\nprint(iblist.add(1,'D'))\nprint(iblist.getList())\nprint(iblist.add(1,'E'))\nprint(iblist.getList())\nprint(iblist.get(4))\nprint(iblist.getList())\nprint(iblist.add(4,'F'))\nprint(iblist.getList())\nprint(iblist.set(2,'G'))\nprint(iblist.getList())\nprint(iblist.get(2))\nprint(iblist.getList())\n",
      "execution_count": 2,
      "outputs": [
        {
          "name": "stdout",
          "output_type": "stream",
          "text": "None\n['A']\nNone\n['B', 'A']\nA\n['B', 'A']\nIndex Error\n['B', 'A']\nNone\n['B', 'A', 'C']\nIndex Error\n['B', 'A', 'C']\nA\n['B', 'C']\nNone\n['B', 'D', 'C']\nNone\n['B', 'E', 'D', 'C']\nIndex Error\n['B', 'E', 'D', 'C']\nNone\n['B', 'E', 'D', 'C', 'F']\nD\n['B', 'E', 'G', 'C', 'F']\nG\n['B', 'E', 'G', 'C', 'F']\n"
        }
      ]
    },
    {
      "metadata": {
        "trusted": false
      },
      "cell_type": "code",
      "source": "# First implementation of a singly-linked list\nclass Node:\n    def __init__(self, value):\n        self.val = value\n        self.next = None     # Pointer initially points to nothing\n    def traverse(self):\n        node = self\n        while node != None:\n            print(node.val)     # Print node value\n            node = node.next    # Set next node\n\n# The entire linked list looks like 6->3->4->2->1\nnodeA = Node(6)\nnodeB = Node(3)\nnodeC = Node(4)\nnodeD = Node(2)\nnodeE = Node(1)\n\nnodeA.next = nodeB\nnodeB.next = nodeC\nnodeC.next = nodeD\nnodeD.next = nodeE",
      "execution_count": 0,
      "outputs": []
    },
    {
      "metadata": {
        "trusted": false
      },
      "cell_type": "code",
      "source": "# Implementation of a doubly-linked list (without sentinel nodes)\nclass Node:\n    def __init__(self, e):\n        self.e = e\n        self.next = None\n        self.prev = None\n\nclass LinkedList:\n    def __init__(self, node = None):    # Initialize an empty list, None is default argument(if not provided)\n        if node == None:\n            self.firstNode = None\n            self.lastNode = None\n            self.size = 0\n        else:\n            self.firstNode = node\n            self.lastNode = node\n            self.size = 1\n\n    def first(self):\n        if self.isEmpty():\n            print(\"List is empty!\")\n            return\n        return self.firstNode\n\n    def last(self):\n        if self.isEmpty():\n            print(\"List is empty!\")\n            return\n        return self.lastNode\n\n    def before(self, p):\n        if p.prev == None:\n            print(p,\"is first Node!\")\n            return\n        return p.prev\n\n    def after(self, p):\n        if p.next == None:\n            print(p, \"is last Node!\")\n            return\n        return p.next\n\n    def isEmpty(self):\n        return self.size == 0\n\n    def length(self):\n        count = 0\n        node = self.firstNode\n        while node != None:\n            count += 1\n            node = node.next\n        return count\n\n    def insertBefore(self, p, e):     # Insert node e before node p\n        if p.prev == None:\n            e.next = p\n            e.prev = None\n            self.firstNode = e\n            self.size += 1\n        else:\n            e.next = p\n            e.prev = p.prev\n            (p.prev).next = e\n            p.prev = e\n            self.size += 1\n\n    def insertAfter(self, p, e):     # Insert node e after node p\n        if p.next == None:\n            p.next = e\n            e.prev = p\n            self.lastNode = e\n            self.size += 1\n        else:\n            e.prev = p\n            e.next = p.next\n            (p.next).prev = e\n            p.next = e\n            self.size += 1\n\n    def remove(self, p):     # Remove node p from linked list\n        if p.prev == None:\n            p.next = None\n            self.size -= 1\n        elif p.next == None:\n            p.prev = None\n            self.size -= 1\n        else:\n            (p.prev).next = p.next\n            (p.next).prev = p.prev\n            self.size -= 1\n\n    def traverse(self):\n        node = self.firstNode\n        while node != None:\n            print(node.e)\n            node = node.next\n        else:\n            print('End of list!')\n\n    def printAll(self):\n        p = self.first()\n        while p != None:\n            print(p.e, end = ' ')\n            p = p.next\n        print('')\n",
      "execution_count": 2,
      "outputs": []
    },
    {
      "metadata": {
        "trusted": false
      },
      "cell_type": "code",
      "source": "a = Node('A')\nb = Node('B')\nc = Node('C')\nd = Node('D')\ne = Node('E')\n\nllist = LinkedList(a)\nllist.printAll()\nllist.insertAfter(a, b)\nllist.printAll()\nllist.insertAfter(b, c)\nllist.printAll()\n\nprint((llist.first()).e)\nprint(llist.last().e)\nprint(llist.before(b).e)\nprint(llist.after(b).e)\nprint(llist.isEmpty())\n\nllist.insertBefore(b, d)\nllist.insertAfter(b, e)\nllist.printAll()\n\nllist.remove(b)\nllist.printAll()\n\nprint(llist.size)",
      "execution_count": 5,
      "outputs": [
        {
          "name": "stdout",
          "output_type": "stream",
          "text": "A \nA B \nA B C \nA\nC\nA\nC\nFalse\nA D B E C \nA D E C \n4\n"
        }
      ]
    },
    {
      "metadata": {
        "trusted": false
      },
      "cell_type": "code",
      "source": "# Implementation of a doubly-linked list (with sentinel nodes)\nclass LinkedList:\n    def __init__(self):\n        # Initialize empty list with sentinel head and tail nodes\n        self.head = Node(None)\n        self.tail = Node(None)\n        self.head.next = self.tail\n        self.tail.prev = self.head\n        self.size = 0\n\n    def length(self):\n        return self.size\n\n    def is_Empty(self):\n        return self.size == 0\n\n    def insert_btw(self, p, r, e):     # Inserts node e between node p and node r\n        e.prev = p\n        e.next = r\n        p.next = e\n        r.prev = e\n        self.size += 1\n\n    def remove(self, p):\n        (p.prev).next = p.next\n        (p.next).prev = p.prev\n        self.size -= 1\n        \n    def traverse(self):\n        node = self.head.next\n        while node.e != None:\n            print(node.e)\n            node = node.next\n        else:\n            print('End of list!')\n\n\nllist = LinkedList()\na = Node('A')\nb = Node('B')\nc = Node('C')\nllist.insert_btw(llist.head, llist.tail, a)\nllist.traverse()\nllist.insert_btw(llist.head, a, b)\nllist.traverse()\nllist.insert_btw(a, llist.tail, c)\nllist.traverse()",
      "execution_count": 7,
      "outputs": [
        {
          "name": "stdout",
          "output_type": "stream",
          "text": "A\nEnd of list!\nB\nA\nEnd of list!\nB\nA\nC\nEnd of list!\n"
        }
      ]
    },
    {
      "metadata": {
        "trusted": false
      },
      "cell_type": "code",
      "source": "",
      "execution_count": 0,
      "outputs": []
    }
  ],
  "metadata": {
    "kernelspec": {
      "name": "python3",
      "display_name": "Python 3",
      "language": "python"
    },
    "language_info": {
      "mimetype": "text/x-python",
      "nbconvert_exporter": "python",
      "name": "python",
      "file_extension": ".py",
      "version": "3.5.4",
      "pygments_lexer": "ipython3",
      "codemirror_mode": {
        "version": 3,
        "name": "ipython"
      }
    }
  },
  "nbformat": 4,
  "nbformat_minor": 1
}