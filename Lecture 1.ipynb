{
  "cells": [
    {
      "metadata": {},
      "cell_type": "raw",
      "source": "Maximum Subarray Problem (Example)"
    },
    {
      "metadata": {
        "trusted": true
      },
      "cell_type": "code",
      "source": "A = [-2, -4, 3, -1, 5, 6, -7, -2, 4, -3, 2]",
      "execution_count": 2,
      "outputs": []
    },
    {
      "metadata": {
        "trusted": false
      },
      "cell_type": "code",
      "source": "def max_subarr_brute(A):\n    max = 0\n    for i in range(len(A)):\n        subarr = []\n        for j in range(i, len(A)):\n            subarr.append(A[j])\n            #print(subarr)\n            sum = 0\n            for k in range(len(subarr)):\n                sum = sum + subarr[k]\n                if sum > max:\n                    max = sum\n    return max\n\n",
      "execution_count": 9,
      "outputs": []
    },
    {
      "metadata": {
        "trusted": false
      },
      "cell_type": "code",
      "source": "max_subarr_brute(A)",
      "execution_count": 10,
      "outputs": [
        {
          "data": {
            "text/plain": "13"
          },
          "execution_count": 10,
          "metadata": {},
          "output_type": "execute_result"
        }
      ]
    },
    {
      "metadata": {
        "trusted": true
      },
      "cell_type": "code",
      "source": "# Faster algorithm - O(n^2), using prefix sums, where sum of subarray\n# from index j to k (0<=j<=k<=n) where n = length of list, is given by S(k) - S(j-1),\n# S(k) = sum of entries from index 0 to k, S(j-1) = sum of entries from index 0 to j-1\n\ndef max_subarr_faster(A):\n    n = len(A)\n    # Creates a list that stores all subarray sums from index 0 to i\n    # Set subarray sum from index 0 to 0 = 0\n    prefixsum = [0] * (n+1)\n    for i in range(n):\n        prefixsum[i+1] = prefixsum[i] + A[i]\n    print(prefixsum)\n    max = 0\n    for j in range(1, n+1):\n        for k in range(j, n+1):\n        # prefixsum[k] is subarray sum from index 0 to k,\n        # prefixsum[j] is subarray sum from index 0 to j\n            sum = prefixsum[k] - prefixsum[j-1]\n            print(\"Sum(\"+str(k)+\"):\"+str(prefixsum[k])+\", Sum(\"+str(j)+\"):\"+str(prefixsum[j-1])+\n                  \" Subarray sum of index\",j,\"to\",k,\":\"+str(sum))\n            if sum > max:\n                max = sum\n    return max\n\nmax_subarr_faster(A)",
      "execution_count": 3,
      "outputs": [
        {
          "output_type": "stream",
          "text": "[0, -2, -6, -3, -4, 1, 7, 0, -2, 2, -1, 1]\nSum(1):-2, Sum(1):0 Subarray sum of index 1 to 1 :-2\nSum(2):-6, Sum(1):0 Subarray sum of index 1 to 2 :-6\nSum(3):-3, Sum(1):0 Subarray sum of index 1 to 3 :-3\nSum(4):-4, Sum(1):0 Subarray sum of index 1 to 4 :-4\nSum(5):1, Sum(1):0 Subarray sum of index 1 to 5 :1\nSum(6):7, Sum(1):0 Subarray sum of index 1 to 6 :7\nSum(7):0, Sum(1):0 Subarray sum of index 1 to 7 :0\nSum(8):-2, Sum(1):0 Subarray sum of index 1 to 8 :-2\nSum(9):2, Sum(1):0 Subarray sum of index 1 to 9 :2\nSum(10):-1, Sum(1):0 Subarray sum of index 1 to 10 :-1\nSum(11):1, Sum(1):0 Subarray sum of index 1 to 11 :1\nSum(2):-6, Sum(2):-2 Subarray sum of index 2 to 2 :-4\nSum(3):-3, Sum(2):-2 Subarray sum of index 2 to 3 :-1\nSum(4):-4, Sum(2):-2 Subarray sum of index 2 to 4 :-2\nSum(5):1, Sum(2):-2 Subarray sum of index 2 to 5 :3\nSum(6):7, Sum(2):-2 Subarray sum of index 2 to 6 :9\nSum(7):0, Sum(2):-2 Subarray sum of index 2 to 7 :2\nSum(8):-2, Sum(2):-2 Subarray sum of index 2 to 8 :0\nSum(9):2, Sum(2):-2 Subarray sum of index 2 to 9 :4\nSum(10):-1, Sum(2):-2 Subarray sum of index 2 to 10 :1\nSum(11):1, Sum(2):-2 Subarray sum of index 2 to 11 :3\nSum(3):-3, Sum(3):-6 Subarray sum of index 3 to 3 :3\nSum(4):-4, Sum(3):-6 Subarray sum of index 3 to 4 :2\nSum(5):1, Sum(3):-6 Subarray sum of index 3 to 5 :7\nSum(6):7, Sum(3):-6 Subarray sum of index 3 to 6 :13\nSum(7):0, Sum(3):-6 Subarray sum of index 3 to 7 :6\nSum(8):-2, Sum(3):-6 Subarray sum of index 3 to 8 :4\nSum(9):2, Sum(3):-6 Subarray sum of index 3 to 9 :8\nSum(10):-1, Sum(3):-6 Subarray sum of index 3 to 10 :5\nSum(11):1, Sum(3):-6 Subarray sum of index 3 to 11 :7\nSum(4):-4, Sum(4):-3 Subarray sum of index 4 to 4 :-1\nSum(5):1, Sum(4):-3 Subarray sum of index 4 to 5 :4\nSum(6):7, Sum(4):-3 Subarray sum of index 4 to 6 :10\nSum(7):0, Sum(4):-3 Subarray sum of index 4 to 7 :3\nSum(8):-2, Sum(4):-3 Subarray sum of index 4 to 8 :1\nSum(9):2, Sum(4):-3 Subarray sum of index 4 to 9 :5\nSum(10):-1, Sum(4):-3 Subarray sum of index 4 to 10 :2\nSum(11):1, Sum(4):-3 Subarray sum of index 4 to 11 :4\nSum(5):1, Sum(5):-4 Subarray sum of index 5 to 5 :5\nSum(6):7, Sum(5):-4 Subarray sum of index 5 to 6 :11\nSum(7):0, Sum(5):-4 Subarray sum of index 5 to 7 :4\nSum(8):-2, Sum(5):-4 Subarray sum of index 5 to 8 :2\nSum(9):2, Sum(5):-4 Subarray sum of index 5 to 9 :6\nSum(10):-1, Sum(5):-4 Subarray sum of index 5 to 10 :3\nSum(11):1, Sum(5):-4 Subarray sum of index 5 to 11 :5\nSum(6):7, Sum(6):1 Subarray sum of index 6 to 6 :6\nSum(7):0, Sum(6):1 Subarray sum of index 6 to 7 :-1\nSum(8):-2, Sum(6):1 Subarray sum of index 6 to 8 :-3\nSum(9):2, Sum(6):1 Subarray sum of index 6 to 9 :1\nSum(10):-1, Sum(6):1 Subarray sum of index 6 to 10 :-2\nSum(11):1, Sum(6):1 Subarray sum of index 6 to 11 :0\nSum(7):0, Sum(7):7 Subarray sum of index 7 to 7 :-7\nSum(8):-2, Sum(7):7 Subarray sum of index 7 to 8 :-9\nSum(9):2, Sum(7):7 Subarray sum of index 7 to 9 :-5\nSum(10):-1, Sum(7):7 Subarray sum of index 7 to 10 :-8\nSum(11):1, Sum(7):7 Subarray sum of index 7 to 11 :-6\nSum(8):-2, Sum(8):0 Subarray sum of index 8 to 8 :-2\nSum(9):2, Sum(8):0 Subarray sum of index 8 to 9 :2\nSum(10):-1, Sum(8):0 Subarray sum of index 8 to 10 :-1\nSum(11):1, Sum(8):0 Subarray sum of index 8 to 11 :1\nSum(9):2, Sum(9):-2 Subarray sum of index 9 to 9 :4\nSum(10):-1, Sum(9):-2 Subarray sum of index 9 to 10 :1\nSum(11):1, Sum(9):-2 Subarray sum of index 9 to 11 :3\nSum(10):-1, Sum(10):2 Subarray sum of index 10 to 10 :-3\nSum(11):1, Sum(10):2 Subarray sum of index 10 to 11 :-1\nSum(11):1, Sum(11):-1 Subarray sum of index 11 to 11 :2\n",
          "name": "stdout"
        },
        {
          "output_type": "execute_result",
          "execution_count": 3,
          "data": {
            "text/plain": "13"
          },
          "metadata": {}
        }
      ]
    },
    {
      "metadata": {
        "trusted": false
      },
      "cell_type": "code",
      "source": "# Fastest algorithm - O(n), using a dynamic programming approach",
      "execution_count": 0,
      "outputs": []
    }
  ],
  "metadata": {
    "kernelspec": {
      "name": "python36",
      "display_name": "Python 3.6",
      "language": "python"
    },
    "language_info": {
      "mimetype": "text/x-python",
      "nbconvert_exporter": "python",
      "name": "python",
      "pygments_lexer": "ipython3",
      "version": "3.6.6",
      "file_extension": ".py",
      "codemirror_mode": {
        "version": 3,
        "name": "ipython"
      }
    }
  },
  "nbformat": 4,
  "nbformat_minor": 1
}