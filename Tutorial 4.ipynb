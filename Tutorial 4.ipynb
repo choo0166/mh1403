{
  "cells": [
    {
      "metadata": {
        "trusted": true
      },
      "cell_type": "code",
      "source": "class ArrayStack:\n    def __init__(self):\n        self.array = []\n\n    def len(self):\n        return len(self.array)\n\n    def is_empty(self):\n        return (len(self.array) == 0)\n\n    def top(self):\n        if self.is_empty():\n            return \"Stack is empty!\"\n        return self.array[-1]\n\n    def push(self, e):\n        self.array.append(e)\n\n    def pop(self):\n        if self.is_empty():\n            return \"Stack is empty!\"\n        return self.array.pop()\n\n    def print(self):\n        return self.array",
      "execution_count": 3,
      "outputs": []
    },
    {
      "metadata": {
        "trusted": true
      },
      "cell_type": "code",
      "source": "class ArrayQueue:\n    Maxlen = 10\n\n    def __init__(self):\n        self.array = [None] * self.Maxlen\n        self.size = 0\n        self.front = 0\n        self.rear = 0\n\n    def len(self):\n        return self.size\n\n    def is_empty(self):\n        return self.size == 0\n\n    def first(self):\n        if self.is_empty():\n            print('Queue is empty!')\n            return\n        else:\n            return self.array[self.front]\n\n    def enqueue(self, e):\n        if self.size == len(self.array):\n            return \"Array full!\"\n        else:\n            self.array[self.rear] = e\n            self.rear = (self.rear + 1) % self.Maxlen\n            self.size += 1\n\n    def dequeue(self):\n        if self.front == self.rear:\n            return \"Queue is empty!\"\n        else:\n            temp = self.array[self.front]\n            self.array[self.front] = None\n            self.front = (self.front + 1) % self.Maxlen\n            self.size -= 1\n            return temp\n\n    def print(self):\n        return self.array[:self.size]",
      "execution_count": 14,
      "outputs": []
    },
    {
      "metadata": {
        "trusted": true
      },
      "cell_type": "code",
      "source": "# Q3\ndef reverser(A):\n    stack = ArrayStack()\n    for i in range(len(A)):\n        stack.push(A[i])\n\n    for i in range(stack.len()):\n        A[i] = stack.pop()\n\n    return A\n\nA = [1, 3, 5, 7]\nreverser(A)",
      "execution_count": 4,
      "outputs": [
        {
          "output_type": "execute_result",
          "execution_count": 4,
          "data": {
            "text/plain": "[7, 5, 3, 1]"
          },
          "metadata": {}
        }
      ]
    },
    {
      "metadata": {
        "trusted": true
      },
      "cell_type": "code",
      "source": "# Q4\ndef reverser2(A):\n    queue = ArrayQueue()\n    for i in range(len(A)-1, -1, -1):   # Enqueue elements starting from end of list\n        queue.enqueue(A[i])\n\n    for i in range(queue.len()):\n        A[i] = queue.dequeue()\n\n    return A\n\nA = [1, 3, 5, 7]\nreverser2(A)",
      "execution_count": 6,
      "outputs": [
        {
          "output_type": "execute_result",
          "execution_count": 6,
          "data": {
            "text/plain": "[7, 5, 3, 1]"
          },
          "metadata": {}
        }
      ]
    },
    {
      "metadata": {
        "trusted": false
      },
      "cell_type": "code",
      "source": "# Q5\n\n# Create a stack for enqueue and dequeue operations\nenq_stk = ArrayStack()\ndeq_stk = ArrayStack()\n\ndef enqueue(e):\n    enq_stk.push(e)\n\n# Dequeue method involves pushing elements from enqueue stack\n# to dequeue stack (if empty) which reverses order of elements in enqueue\n# stack, then popping the elements from the stack\ndef dequeue():\n    if self.deq_stk.len() == 0:\n        while self.enq_stk.len() != 0:\n            s = self.enq_stk.pop()\n            self.deq_stk.push(s)\n        return self.deq_stk.pop()\n    return self.deq_stk.pop()\n\n\n# Example implementation\n# Worst case running time for enqueue is O(1).\n# Worst case running time for dequeue is O(n) if dequeue stack is empty,\n# since we are pushing n elements from enqueue stack to dequeue stack. But\n# this only occurs once after every n successive dequeues, otherwise dequeue\n# runs in O(1) when dequeue stack is non-empty, so since an O(n) operation\n# occurs once every n times then amortized running time is O(1).\n\nclass StkQueue:\n\n    def __init__(self):\n        self.enq_stk = ArrayStack()\n        self.deq_stk = ArrayStack()\n\n    def enqueue(self, e):\n        self.enq_stk.push(e)\n\n    def dequeue(self):\n        if self.deq_stk.len() == 0:\n            while self.enq_stk.len() != 0:\n                s = self.enq_stk.pop()\n                self.deq_stk.push(s)\n            return self.deq_stk.pop()\n        return self.deq_stk.pop()\n",
      "execution_count": 38,
      "outputs": []
    },
    {
      "metadata": {
        "trusted": true
      },
      "cell_type": "code",
      "source": "# Q6 (See https://www.youtube.com/watch?v=fMbj901duGI)\n\n# Create two queues for push and pop operations\nq_1 = ArrayQueue()\nq_2 = ArrayQueue()\n\ndef push(e):\n    # We will always push elements to queue 1\n    q_1.enqueue(e)\n\ndef pop():\n    # When pop is called, dequeue elements from queue 1 until the last element\n    # (last element not dequeued, is to be popped) and enqueue into queue 2 (always empty)\n    while q_1.front != q_1.rear-2:\n        q_2.enqueue(q_1.dequeue())\n        # Queue 1 now contains only the element to be popped, queue 2 contains the rest of \n        # our elements, swop queue 1 and queue 2 so queue 2 is where we return the popped element\n        temp = q_1\n        q_1 = q_2\n        q_2 = temp\n        return q_2.dequeue()\n\n\n# Example implementation\n\nclass QueueStk:\n\n    def __init__(self):\n        self.q1 = ArrayQueue()\n        self.q2 = ArrayQueue()\n\n    def push(self, e):\n    # We will always push elements to queue 1\n        self.q1.enqueue(e)\n\n    def pop(self):\n    # When pop is called, dequeue elements from queue 1 until the last element\n    # (last element not dequeued, is to be popped) and enqueue into queue 2 (always empty)\n        while self.q1.front != self.q1.rear-1:\n            self.q2.enqueue(self.q1.dequeue())\n        # Queue 1 now contains only the element to be popped, queue 2 contains the rest of \n        # our elements, swop queue 1 and queue 2 so queue 2 is where we return the popped element\n        temp = self.q1\n        self.q1 = self.q2\n        self.q2 = temp\n        \n        return self.q2.dequeue()\n\n\nA = QueueStk()\nA.push('A')\nA.push('B')\nA.push('C')\nA.pop()",
      "execution_count": 18,
      "outputs": [
        {
          "output_type": "execute_result",
          "execution_count": 18,
          "data": {
            "text/plain": "'C'"
          },
          "metadata": {}
        }
      ]
    },
    {
      "metadata": {
        "trusted": false
      },
      "cell_type": "code",
      "source": "",
      "execution_count": 0,
      "outputs": []
    }
  ],
  "metadata": {
    "kernelspec": {
      "name": "python3",
      "display_name": "Python 3",
      "language": "python"
    },
    "language_info": {
      "mimetype": "text/x-python",
      "nbconvert_exporter": "python",
      "name": "python",
      "file_extension": ".py",
      "version": "3.5.4",
      "pygments_lexer": "ipython3",
      "codemirror_mode": {
        "version": 3,
        "name": "ipython"
      }
    }
  },
  "nbformat": 4,
  "nbformat_minor": 1
}