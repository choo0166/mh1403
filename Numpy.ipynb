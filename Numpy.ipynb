{
  "cells": [
    {
      "metadata": {
        "collapsed": true
      },
      "cell_type": "markdown",
      "source": "##### Arrays and Matrices (With NumPy module)\n\n- Vectors and matrices used to store sets of values all of the same type\n- A scalar is a 1x1 matrix\n- A vector is either a 1xn matrix (row vector) or a nx1 matrix (column vector)\n- A matrix has dimension rxc (rows x columns)\n- In Numpy, we are manipulating arrays. A scalar is a 0-dimensional array, a vector is a 1-dimensional array and a matrix is a 2-dimensional array"
    },
    {
      "metadata": {
        "trusted": true
      },
      "cell_type": "code",
      "source": "import numpy as np\n\n# Create a list and type cast into array\nmy_ar = np.array([1, 2, 3, 4])  # my_ar = array([1, 2, 3, 4])\nmy_ar = np.array(range(3, 8))   # my_ar = array([3, 4, 5, 6, 7])\nmy_ar = np.arange(3, 8)         # my_ar = array([3, 4, 5, 6, 7])",
      "execution_count": 1,
      "outputs": []
    },
    {
      "metadata": {},
      "cell_type": "markdown",
      "source": "- Do not use `+` and `*` operators for concatenation and repetition with arrays"
    },
    {
      "metadata": {
        "trusted": true
      },
      "cell_type": "code",
      "source": "# To concatenate arrays\nmy_ar = np.concatenate([np.array([1,2]), np.array([4,5])])    # my_ar = array([1, 2, 4, 5])\n\n# To repeat arrays\nmy_ar = np.tile(np.array([1,2]), 3)   # my_ar = array([1, 2, 1, 2, 1, 2])",
      "execution_count": 2,
      "outputs": []
    },
    {
      "metadata": {},
      "cell_type": "markdown",
      "source": "- Indexing in arrays are done similar to lists"
    },
    {
      "metadata": {
        "trusted": true
      },
      "cell_type": "code",
      "source": "my_ar = np.array([5.1, 0, 1, 2.2, 6])\nprint(my_ar[2])\nmy_ar[2::-1] = np.array([3, 4, 5])    # Must be the same size, returns array([5. , 4. , 3. , 2.2, 6.])\nprint(my_ar)",
      "execution_count": 6,
      "outputs": [
        {
          "output_type": "stream",
          "text": "1.0\n[5.  4.  3.  2.2 6. ]\n",
          "name": "stdout"
        }
      ]
    },
    {
      "metadata": {},
      "cell_type": "markdown",
      "source": "- An array can have any dimension, for example, a 3-dimensional array:\n\n![Numpy arrays](https://i.stack.imgur.com/p2PGi.png)"
    },
    {
      "metadata": {
        "trusted": true
      },
      "cell_type": "code",
      "source": "my_ar = np.array([[[4, 5, 6], [1, 2, 3]], [[7, 8, 9], [10, 11, 12]]])\nmy_ar",
      "execution_count": 9,
      "outputs": [
        {
          "output_type": "execute_result",
          "execution_count": 9,
          "data": {
            "text/plain": "array([[[ 4,  5,  6],\n        [ 1,  2,  3]],\n\n       [[ 7,  8,  9],\n        [10, 11, 12]]])"
          },
          "metadata": {}
        }
      ]
    },
    {
      "metadata": {
        "trusted": true
      },
      "cell_type": "code",
      "source": "my_ar.shape   # We have 2 (2x3) matrices stacked to form the array",
      "execution_count": 12,
      "outputs": [
        {
          "output_type": "execute_result",
          "execution_count": 12,
          "data": {
            "text/plain": "(2, 2, 3)"
          },
          "metadata": {}
        }
      ]
    },
    {
      "metadata": {
        "trusted": true
      },
      "cell_type": "code",
      "source": "my_ar[0, 1, 2]  # Indexing starts with highest dimension",
      "execution_count": 10,
      "outputs": [
        {
          "output_type": "execute_result",
          "execution_count": 10,
          "data": {
            "text/plain": "3"
          },
          "metadata": {}
        }
      ]
    },
    {
      "metadata": {
        "trusted": true
      },
      "cell_type": "code",
      "source": "my_ar[:,0, 1]   # same as my_ar[0, 0, 1] concatenated with my_ar[1, 0, 1]",
      "execution_count": 11,
      "outputs": [
        {
          "output_type": "execute_result",
          "execution_count": 11,
          "data": {
            "text/plain": "array([5, 8])"
          },
          "metadata": {}
        }
      ]
    },
    {
      "metadata": {
        "trusted": true
      },
      "cell_type": "code",
      "source": "",
      "execution_count": null,
      "outputs": []
    }
  ],
  "metadata": {
    "kernelspec": {
      "name": "python3",
      "display_name": "Python 3",
      "language": "python"
    },
    "language_info": {
      "mimetype": "text/x-python",
      "nbconvert_exporter": "python",
      "name": "python",
      "pygments_lexer": "ipython3",
      "version": "3.5.4",
      "file_extension": ".py",
      "codemirror_mode": {
        "version": 3,
        "name": "ipython"
      }
    }
  },
  "nbformat": 4,
  "nbformat_minor": 2
}