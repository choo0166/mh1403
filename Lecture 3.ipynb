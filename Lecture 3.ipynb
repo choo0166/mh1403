{
  "cells": [
    {
      "metadata": {},
      "cell_type": "markdown",
      "source": "Stack ADT"
    },
    {
      "metadata": {
        "trusted": false
      },
      "cell_type": "code",
      "source": "class ArrayStack:\n    def __init__(self):\n        self.array = []\n\n    def len(self):\n        return len(self.array)\n\n    def is_empty(self):\n        return len(self.array) == 0\n\n    def top(self):\n        if self.is_empty():\n            return \"Stack is empty!\"\n        return self.array[-1]\n\n    def push(self, e):\n        self.array.append(e)\n\n    def pop(self):\n        if self.is_empty():\n            return \"Stack is empty!\"\n        return self.array.pop()",
      "execution_count": 5,
      "outputs": []
    },
    {
      "metadata": {},
      "cell_type": "markdown",
      "source": "Compute spans: Given an array X, span S[i] of X[i] is the maximum number of consecutive elements X[j] preceding X[i] such that X[j] <= X[i], and j <= i.\n\n"
    },
    {
      "metadata": {
        "trusted": false
      },
      "cell_type": "code",
      "source": "# O(n^2) compute spans algorithm\n\ndef span1(X, n):\n    sp = [0] * n\n    for i in range(n):\n        j = 1\n        count = 1\n        if i == 0:\n            sp[i] = count\n            continue\n        while X[i-j] <= X[i] and j <= i:\n            count += 1\n            j += 1\n        else:\n            sp[i] = count\n    return sp\n\nX = [6, 3, 4, 5, 2]\nspan1(X, 5)",
      "execution_count": 6,
      "outputs": [
        {
          "data": {
            "text/plain": "[1, 1, 2, 3, 1]"
          },
          "execution_count": 6,
          "metadata": {},
          "output_type": "execute_result"
        }
      ]
    },
    {
      "metadata": {
        "trusted": false
      },
      "cell_type": "code",
      "source": "# O(n) compute spans algorithm using stacks\n\ndef span2(X, n):\n    sp = [0] * n\n    stack = ArrayStack()\n    for i in range(n):\n        # Pop indices from stack while stack is not empty and top of stack is <= X[i]\n        while stack.is_empty() == False and X[stack.top()] <= X[i]:\n            stack.pop()\n        # If stack is empty, then X[i] is greater than all preceding elements, i.e.\n        # X[0], X[1], ... , X[i-1], else X[i] is greater than elements after top of stack\n        if stack.is_empty():\n            sp[i] = i + 1\n        else:\n            sp[i] = i - stack.top()\n        stack.push(i)\n    return sp\n\nX = [6, 3, 4, 5, 2]\nspan2(X, 5)",
      "execution_count": 6,
      "outputs": [
        {
          "data": {
            "text/plain": "[1, 1, 2, 3, 1]"
          },
          "execution_count": 6,
          "metadata": {},
          "output_type": "execute_result"
        }
      ]
    },
    {
      "metadata": {},
      "cell_type": "markdown",
      "source": "Queue ADT"
    },
    {
      "metadata": {
        "trusted": false
      },
      "cell_type": "code",
      "source": "class ArrayQueue:\n    \n    Maxlen = 10\n\n    def __init__(self):\n        self.array = [None] * self.Maxlen\n        self.size = 0\n        self.front = 0\n        self.rear = 0\n\n    def size(self):\n        return self.size\n\n    def is_empty(self):\n        return self.size == 0\n\n    def first(self):\n        if self.is_empty():\n            print('Queue is empty!')\n            return\n        else:\n            return self.array[self.front]\n\n    def enqueue(self, e):\n        if self.size() == len(self.array):\n            return \"Array full!\"\n        else:\n            self.array[self.rear] = e\n            self.rear = (self.rear + 1) % self.Maxlen\n            self.size += 1\n\n    def dequeue(self):\n        if self.front == self.rear:\n            return \"Queue is empty!\"\n        else:\n            temp = self.array[self.front]\n            self.array[self.front] = None\n            self.front = (self.front + 1) % self.Maxlen\n            self.size -= 1\n            return temp",
      "execution_count": 7,
      "outputs": []
    },
    {
      "metadata": {
        "trusted": true
      },
      "cell_type": "code",
      "source": "# Implementation of a double-ended queue ADT\nclass ArrayDeque:\n\n    Maxlen = 10     # Capacity of deque\n\n    def __init__(self):\n        self.array = [None] * self.Maxlen\n        self.front = 0\n        self.rear = 0\n        self.size = 0\n        \n    def get(self, i):     # Return element at index i as specified in an IB list\n        return self.array[(i + self.front) % self.Maxlen]\n\n    def add_last(self, e):     # Adds element e to the end of deque\n        if self.size == len(self.array):\n            return \"Array full!\"\n        else:\n            self.array[self.rear] = e\n            self.rear = (self.rear + 1) % self.Maxlen\n            self.size += 1\n    \n    def add_first(self, e):     # Adds element e to the front of deque\n        if self.size == len(self.array):\n            return \"List is full!\"\n        else:\n            self.array[(self.front - 1) % self.Maxlen] = e   # self.front-1 % Maxlen gives Maxlen-1 (end of list)    \n            self.front = (self.front - 1) % self.Maxlen\n            self.size += 1\n\n    def del_first(self):     # Removes element at front of deque\n        if self.front == self.rear:\n            return \"Queue is empty!\"\n        else:\n            temp = self.array[self.front]\n            self.array[self.front] = None\n            self.front = (self.front + 1) % self.Maxlen\n            self.size -= 1\n            return temp\n    \n    def del_last(self):     # Removes element at end of deque\n        if self.front == self.rear:\n            return \"Queue is empty!\"\n        else:\n            temp = self.array[self.rear - 1]\n            self.array[self.rear - 1] = None\n            self.rear = (self.rear - 1) % self.Maxlen\n            self.size -= 1\n            return temp\n        \n        \nD = ArrayDeque()\nD.add_last(5)\nD.get(0)\nD.add_first(3)\nD.get(0)\nD.add_first(7)\nD.del_first()\nD.del_first()\nD.get(0)",
      "execution_count": 14,
      "outputs": [
        {
          "output_type": "execute_result",
          "execution_count": 14,
          "data": {
            "text/plain": "5"
          },
          "metadata": {}
        }
      ]
    }
  ],
  "metadata": {
    "kernelspec": {
      "name": "python3",
      "display_name": "Python 3",
      "language": "python"
    },
    "language_info": {
      "mimetype": "text/x-python",
      "nbconvert_exporter": "python",
      "name": "python",
      "pygments_lexer": "ipython3",
      "version": "3.5.4",
      "file_extension": ".py",
      "codemirror_mode": {
        "version": 3,
        "name": "ipython"
      }
    }
  },
  "nbformat": 4,
  "nbformat_minor": 1
}