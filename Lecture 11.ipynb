{
  "cells": [
    {
      "metadata": {},
      "cell_type": "markdown",
      "source": "Dynamic Programming"
    },
    {
      "metadata": {
        "trusted": true
      },
      "cell_type": "code",
      "source": "# We use numpy to create the result array\nimport numpy as np\n\ndef mcp(d):\n    # Number of matrices we are multiplying\n    n = len(d)-1\n    # Create nxn result array to store previously computed cost of subproblems\n    arr_M = np.array([[None] * n for k in range(n)])\n    # Create nxn result array to store position of splits resulting in minimum cost\n    arr_S = np.array([[None] * n for k in range(n)])\n    return mcp_helper(d, 1, n, arr_M, arr_S)\n\ndef mcp_helper(d, i, j, arr_M, arr_S):\n    # Input is a 10 x 5 matrix, 5 x 10 matrix, 10 x 5 matrix and 5 x 10 matrix\n    # Matrix M[i] has dimensions d[i-1] x d[i] for i = 1...n\n            \n    # Base case (only 1 matrix, so number of multiplications is 0)\n    if i == j:\n        return 0\n    \n    # Check if the subproblem has already been computed, if it is, return it\n    if arr_M[i-1][j-1] != None:\n        return arr_M[i-1][j-1]\n    \n    # This variable tracks minimum number of multiplications needed to compute M[i]...M[j]\n    min = float('inf')\n    \n    # We take the minimum cost of multiplication over all n-1 possible \n    # split positions denoted by k\n    for k in range(i, j):\n        # Cost of multiplying M[1]...M[k] to get a d[0] x d[k] matrix\n        cost = mcp_helper(d, i, k, arr_M, arr_S) \n        \n        # Cost of multiplying M[k+1]...M[j] to get a d[k] x d[j] matrix\n        cost += mcp_helper(d, k+1, j, arr_M, arr_S)\n        \n        # Cost of multiplying the (d[0] x d[k]) matrix with (d[k] x d[j]) matrix\n        cost += d[i-1] * d[k] * d[j]\n        \n        if cost < min:\n            min = cost\n            # Keep track of splits with minimum costs\n            arr_S[i-1][j-1] = k\n        \n    # Store computed result in result array\n    arr_M[i-1][j-1] = min\n    print(arr_M)\n        \n    return min\n",
      "execution_count": 109,
      "outputs": []
    },
    {
      "metadata": {
        "trusted": true
      },
      "cell_type": "code",
      "source": "d = [10, 5, 10, 5, 10]\nmcp(d)",
      "execution_count": 110,
      "outputs": [
        {
          "output_type": "stream",
          "text": "[[None None None None]\n [None None None None]\n [None None None 500]\n [None None None None]]\n[[None None None None]\n [None None 250 None]\n [None None None 500]\n [None None None None]]\n[[None None None None]\n [None None 250 500]\n [None None None 500]\n [None None None None]]\n[[None 500 None None]\n [None None 250 500]\n [None None None 500]\n [None None None None]]\n[[None 500 500 None]\n [None None 250 500]\n [None None None 500]\n [None None None None]]\n[[None 500 500 1000]\n [None None 250 500]\n [None None None 500]\n [None None None None]]\n",
          "name": "stdout"
        },
        {
          "output_type": "execute_result",
          "execution_count": 110,
          "data": {
            "text/plain": "1000"
          },
          "metadata": {}
        }
      ]
    }
  ],
  "metadata": {
    "kernelspec": {
      "name": "python3",
      "display_name": "Python 3",
      "language": "python"
    },
    "language_info": {
      "mimetype": "text/x-python",
      "nbconvert_exporter": "python",
      "name": "python",
      "file_extension": ".py",
      "version": "3.5.4",
      "pygments_lexer": "ipython3",
      "codemirror_mode": {
        "version": 3,
        "name": "ipython"
      }
    }
  },
  "nbformat": 4,
  "nbformat_minor": 2
}